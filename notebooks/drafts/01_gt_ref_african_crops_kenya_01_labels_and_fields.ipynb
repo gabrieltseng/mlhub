{
 "cells": [
  {
   "cell_type": "markdown",
   "metadata": {},
   "source": [
    "# Investigating the labels in the `ref_african_crops_kenya_01` dataset"
   ]
  },
  {
   "cell_type": "markdown",
   "metadata": {},
   "source": [
    "Contents:\n",
    "\n",
    "1. How many fields per major crop?\n",
    "2. How many fields have an additional second crop?\n",
    "3. What is the crop density per crop type?\n",
    "4. How many crops are planted in each field"
   ]
  },
  {
   "cell_type": "code",
   "execution_count": 14,
   "metadata": {},
   "outputs": [],
   "source": [
    "%matplotlib inline\n",
    "import geojson\n",
    "from matplotlib import pyplot as plt\n",
    "from pathlib import Path\n",
    "from collections import defaultdict\n",
    "import numpy as np\n",
    "\n",
    "from typing import Dict"
   ]
  },
  {
   "cell_type": "markdown",
   "metadata": {},
   "source": [
    "First, we will load up the geojson labels"
   ]
  },
  {
   "cell_type": "code",
   "execution_count": 2,
   "metadata": {},
   "outputs": [],
   "source": [
    "labels_path = Path(\n",
    "    \"../../data/ref_african_crops_kenya_01/ref_african_crops_kenya_01_001/ref_african_crops_kenya_01_001.geojson\"\n",
    ")"
   ]
  },
  {
   "cell_type": "code",
   "execution_count": 3,
   "metadata": {},
   "outputs": [],
   "source": [
    "with labels_path.open(\"r\") as f:\n",
    "    labels_geojson = geojson.load(f)"
   ]
  },
  {
   "cell_type": "markdown",
   "metadata": {},
   "source": [
    "#### 1. How many fields per major crop?"
   ]
  },
  {
   "cell_type": "code",
   "execution_count": 4,
   "metadata": {},
   "outputs": [],
   "source": [
    "fields_as_major = defaultdict(int)\n",
    "for label in labels_geojson[\"features\"]:\n",
    "    fields_as_major[label[\"properties\"][\"Crop1\"]] += 1"
   ]
  },
  {
   "cell_type": "code",
   "execution_count": 5,
   "metadata": {},
   "outputs": [
    {
     "data": {
      "text/plain": [
       "defaultdict(int,\n",
       "            {'Millet': 16,\n",
       "             'Cassava': 59,\n",
       "             'Maize': 197,\n",
       "             'Groundnut': 10,\n",
       "             'Soybean': 2,\n",
       "             'Sorghum': 2,\n",
       "             'Bean': 2,\n",
       "             'Fallowland': 23,\n",
       "             'Tomato': 2,\n",
       "             'Sugarcane': 3,\n",
       "             'Cabbage': 1,\n",
       "             'Sweetpotato': 1,\n",
       "             'Banana': 1})"
      ]
     },
     "execution_count": 5,
     "metadata": {},
     "output_type": "execute_result"
    }
   ],
   "source": [
    "fields_as_major"
   ]
  },
  {
   "cell_type": "markdown",
   "metadata": {},
   "source": [
    "#### 2. How many fields have an additional second crop?"
   ]
  },
  {
   "cell_type": "code",
   "execution_count": 6,
   "metadata": {},
   "outputs": [],
   "source": [
    "fields_as_1_or_2 = defaultdict(int)\n",
    "for label in labels_geojson[\"features\"]:\n",
    "    crop1 = label['properties']['Crop1']\n",
    "    crop2 = label['properties']['Crop2']\n",
    "\n",
    "    crop_string = f\"{crop1}{'/' if crop2 != '' else ''}{crop2}\"\n",
    "\n",
    "    fields_as_1_or_2[crop_string] += 1"
   ]
  },
  {
   "cell_type": "code",
   "execution_count": 7,
   "metadata": {},
   "outputs": [
    {
     "data": {
      "text/plain": [
       "defaultdict(int,\n",
       "            {'Millet': 13,\n",
       "             'Cassava': 51,\n",
       "             'Maize': 128,\n",
       "             'Groundnut': 9,\n",
       "             'Maize/Bean': 15,\n",
       "             'Soybean/Groundnut': 1,\n",
       "             'Soybean': 1,\n",
       "             'Maize/Groundnut': 26,\n",
       "             'Sorghum/Bean': 1,\n",
       "             'Bean': 2,\n",
       "             'Maize/Cowpea': 1,\n",
       "             'Maize/Cassava': 17,\n",
       "             'Fallowland': 23,\n",
       "             'Cassava/Maize': 4,\n",
       "             'Cassava/Groundnut': 3,\n",
       "             'Maize/Soybean': 6,\n",
       "             'Tomato': 2,\n",
       "             'Millet/Groundnut': 1,\n",
       "             'Millet/Fallowland': 1,\n",
       "             'Sugarcane': 3,\n",
       "             'Millet/Sorghum': 1,\n",
       "             'Maize/Fallowland': 1,\n",
       "             'Maize/Millet': 2,\n",
       "             'Cassava/Fallowland': 1,\n",
       "             'Sorghum/Soybean': 1,\n",
       "             'Groundnut/Fallowland': 1,\n",
       "             'Cabbage': 1,\n",
       "             'Sweetpotato': 1,\n",
       "             'Banana': 1,\n",
       "             'Maize/Sweetpotato': 1})"
      ]
     },
     "execution_count": 7,
     "metadata": {},
     "output_type": "execute_result"
    }
   ],
   "source": [
    "fields_as_1_or_2"
   ]
  },
  {
   "cell_type": "markdown",
   "metadata": {},
   "source": [
    "We can now compare the fields with only 1 crop vs more than one:"
   ]
  },
  {
   "cell_type": "code",
   "execution_count": 8,
   "metadata": {},
   "outputs": [],
   "source": [
    "total_mixed_fields = sum([val for key, val in fields_as_1_or_2.items() if \"/\" in key])"
   ]
  },
  {
   "cell_type": "code",
   "execution_count": 9,
   "metadata": {},
   "outputs": [
    {
     "data": {
      "text/plain": [
       "84"
      ]
     },
     "execution_count": 9,
     "metadata": {},
     "output_type": "execute_result"
    }
   ],
   "source": [
    "total_mixed_fields"
   ]
  },
  {
   "cell_type": "code",
   "execution_count": 10,
   "metadata": {},
   "outputs": [],
   "source": [
    "total_unmixed_fields = sum([val for key, val in fields_as_1_or_2.items() if \"/\" not in key])"
   ]
  },
  {
   "cell_type": "code",
   "execution_count": 11,
   "metadata": {},
   "outputs": [
    {
     "data": {
      "text/plain": [
       "235"
      ]
     },
     "execution_count": 11,
     "metadata": {},
     "output_type": "execute_result"
    }
   ],
   "source": [
    "total_unmixed_fields"
   ]
  },
  {
   "cell_type": "markdown",
   "metadata": {},
   "source": [
    "#### 3. What is the crop density per crop type?\n",
    "\n",
    "Crop density between different fields is also documented - we can look at the distribution of crop density across crops:"
   ]
  },
  {
   "cell_type": "code",
   "execution_count": 12,
   "metadata": {},
   "outputs": [],
   "source": [
    "crop_densities_per_crop = defaultdict(list)\n",
    "for label in labels_geojson[\"features\"]:\n",
    "    crop_densities_per_crop[label[\"properties\"][\"Crop1\"]].append(int(label[\"properties\"][\"Crop Density\"]))"
   ]
  },
  {
   "cell_type": "code",
   "execution_count": 13,
   "metadata": {},
   "outputs": [
    {
     "name": "stdout",
     "output_type": "stream",
     "text": [
      "Millet: 75.94% (16 fields)\n",
      "Cassava: 47.71% (59 fields)\n",
      "Maize: 40.48% (197 fields)\n",
      "Groundnut: 52.2% (10 fields)\n",
      "Soybean: 40.0% (2 fields)\n",
      "Sorghum: 65.0% (2 fields)\n",
      "Bean: 52.5% (2 fields)\n",
      "Fallowland: 89.13% (23 fields)\n",
      "Tomato: 20.0% (2 fields)\n",
      "Sugarcane: 75.0% (3 fields)\n",
      "Cabbage: 40.0% (1 fields)\n",
      "Sweetpotato: 45.0% (1 fields)\n",
      "Banana: 10.0% (1 fields)\n"
     ]
    }
   ],
   "source": [
    "for crop, densities in crop_densities_per_crop.items():\n",
    "    print(f\"{crop}: {round(np.mean(densities), 2)}% ({fields_as_major[crop]} fields)\")"
   ]
  },
  {
   "cell_type": "markdown",
   "metadata": {},
   "source": [
    "#### 5. How many crops are planted in each field?\n",
    "\n",
    "Up to 5 crops are documented in a field - we can look at how many fields have how many crops"
   ]
  },
  {
   "cell_type": "code",
   "execution_count": 19,
   "metadata": {},
   "outputs": [],
   "source": [
    "def find_crops_per_field(properties_dict: Dict) -> int:\n",
    "    for i in range(1, 6):\n",
    "        crop_string = f\"Crop{i}\"\n",
    "        crop = properties_dict[crop_string]\n",
    "        if crop == \"\":\n",
    "            return i - 1\n",
    "    return i - 1"
   ]
  },
  {
   "cell_type": "code",
   "execution_count": 20,
   "metadata": {},
   "outputs": [],
   "source": [
    "crops_per_field = defaultdict(int)\n",
    "\n",
    "for label in labels_geojson[\"features\"]:\n",
    "\n",
    "    num_crops = find_crops_per_field(label[\"properties\"])\n",
    "    crops_per_field[num_crops] += 1"
   ]
  },
  {
   "cell_type": "code",
   "execution_count": 24,
   "metadata": {},
   "outputs": [
    {
     "name": "stdout",
     "output_type": "stream",
     "text": [
      "235 fields have 1 crops planted\n",
      "63 fields have 2 crops planted\n",
      "11 fields have 3 crops planted\n",
      "10 fields have 4 crops planted\n"
     ]
    }
   ],
   "source": [
    "for num_crops, num_fields in crops_per_field.items():\n",
    "    print(f\"{num_fields} fields have {num_crops} crops planted\")"
   ]
  }
 ],
 "metadata": {
  "kernelspec": {
   "display_name": "Python 3",
   "language": "python",
   "name": "python3"
  },
  "language_info": {
   "codemirror_mode": {
    "name": "ipython",
    "version": 3
   },
   "file_extension": ".py",
   "mimetype": "text/x-python",
   "name": "python",
   "nbconvert_exporter": "python",
   "pygments_lexer": "ipython3",
   "version": "3.7.6"
  }
 },
 "nbformat": 4,
 "nbformat_minor": 4
}
